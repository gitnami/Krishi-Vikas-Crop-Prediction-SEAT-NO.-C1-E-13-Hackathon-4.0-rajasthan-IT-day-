{
 "cells": [
  {
   "cell_type": "markdown",
   "metadata": {
    "collapsed": true
   },
   "source": [
    "# CROP PREDICTION SYSTEM (KRISHI VIKAS)"
   ]
  },
  {
   "cell_type": "markdown",
   "metadata": {},
   "source": [
    "# TF-IDF Based Recommender\n",
    "1. Represent crops in terms of bag of words\n",
    "2. Represent crops in terms of most grown crop and least grown crop\n",
    "3. Generate TF-IDF matrix for farmers most grown crop and least grown crop\n",
    "4. Calculate cosine similarity between crop grown in highest land area and least land area \n",
    "5. Get the recommended crops "
   ]
  },
  {
   "cell_type": "markdown",
   "metadata": {},
   "source": [
    "**Describing parameters**:\n",
    "\n",
    "*1. PATH_CROPS: specify the path where crop.csv is present*  <br/>\n",
    "*2. GROWN_CROP: List of CROP_Ids GROWN by the user*  <br/>\n",
    "*3. NO_PREDICTED_CROP: Refers to the number of predicted crop as a result*"
   ]
  },
  {
   "cell_type": "code",
   "execution_count": 1,
   "metadata": {},
   "outputs": [],
   "source": [
    "PATH_CROPS=\"/Users/Dell/Music/apy.csv\"\n",
    "GROWN_CROP=[2,7,8,17,18,34]\n",
    "NUM_PREDICTED_CROP=50"
   ]
  },
  {
   "cell_type": "code",
   "execution_count": 2,
   "metadata": {},
   "outputs": [],
   "source": [
    "try:\n",
    "    import numpy\n",
    "    import pandas as pd\n",
    "    import pickle as pk\n",
    "    from sklearn.feature_extraction.text import TfidfVectorizer\n",
    "    from sklearn.metrics.pairwise import cosine_similarity\n",
    "    import re\n",
    "    from nltk.stem.snowball import SnowballStemmer\n",
    "    import nltk\n",
    "    stemmer = SnowballStemmer(\"english\")\n",
    "except ImportError:\n",
    "    print('You are missing some packages! ' \\\n",
    "          'We will try installing them before continuing!')\n",
    "    !pip install \"numpy\" \"pandas\" \"sklearn\" \"nltk\"\n",
    "    import numpy\n",
    "    import pandas as pd\n",
    "    import pickle as pk\n",
    "    from sklearn.feature_extraction.text import TfidfVectorizer\n",
    "    from sklearn.metrics.pairwise import cosine_similarity\n",
    "    import re\n",
    "    from nltk.stem.snowball import SnowballStemmer\n",
    "    import nltk\n",
    "    stemmer = SnowballStemmer(\"english\")\n",
    "    print('Done!')"
   ]
  },
  {
   "cell_type": "markdown",
   "metadata": {},
   "source": [
    "## 1. Represent articles in terms of bag of words\n",
    "\n",
    "1. Reading the csv file to get the State_Name, crop and Area\n",
    "2. Remove punctuation marks and other symbols from each crop\n",
    "3. Tokenize each crop\n",
    "4. Stem token of every crop"
   ]
  },
  {
   "cell_type": "code",
   "execution_count": 4,
   "metadata": {},
   "outputs": [
    {
     "data": {
      "text/html": [
       "<div>\n",
       "<style scoped>\n",
       "    .dataframe tbody tr th:only-of-type {\n",
       "        vertical-align: middle;\n",
       "    }\n",
       "\n",
       "    .dataframe tbody tr th {\n",
       "        vertical-align: top;\n",
       "    }\n",
       "\n",
       "    .dataframe thead th {\n",
       "        text-align: right;\n",
       "    }\n",
       "</style>\n",
       "<table border=\"1\" class=\"dataframe\">\n",
       "  <thead>\n",
       "    <tr style=\"text-align: right;\">\n",
       "      <th></th>\n",
       "      <th>State_Name</th>\n",
       "      <th>District_Name</th>\n",
       "      <th>Crop_Year</th>\n",
       "      <th>Season</th>\n",
       "      <th>Crop</th>\n",
       "      <th>Area</th>\n",
       "      <th>Production</th>\n",
       "    </tr>\n",
       "  </thead>\n",
       "  <tbody>\n",
       "    <tr>\n",
       "      <th>0</th>\n",
       "      <td>Andaman and Nicobar Islands</td>\n",
       "      <td>NICOBARS</td>\n",
       "      <td>2000</td>\n",
       "      <td>Kharif</td>\n",
       "      <td>Arecanut</td>\n",
       "      <td>1254.0</td>\n",
       "      <td>2000.0</td>\n",
       "    </tr>\n",
       "    <tr>\n",
       "      <th>1</th>\n",
       "      <td>Andaman and Nicobar Islands</td>\n",
       "      <td>NICOBARS</td>\n",
       "      <td>2000</td>\n",
       "      <td>Kharif</td>\n",
       "      <td>Other Kharif pulses</td>\n",
       "      <td>2.0</td>\n",
       "      <td>1.0</td>\n",
       "    </tr>\n",
       "    <tr>\n",
       "      <th>2</th>\n",
       "      <td>Andaman and Nicobar Islands</td>\n",
       "      <td>NICOBARS</td>\n",
       "      <td>2000</td>\n",
       "      <td>Kharif</td>\n",
       "      <td>Rice</td>\n",
       "      <td>102.0</td>\n",
       "      <td>321.0</td>\n",
       "    </tr>\n",
       "    <tr>\n",
       "      <th>3</th>\n",
       "      <td>Andaman and Nicobar Islands</td>\n",
       "      <td>NICOBARS</td>\n",
       "      <td>2000</td>\n",
       "      <td>Whole Year</td>\n",
       "      <td>Banana</td>\n",
       "      <td>176.0</td>\n",
       "      <td>641.0</td>\n",
       "    </tr>\n",
       "    <tr>\n",
       "      <th>4</th>\n",
       "      <td>Andaman and Nicobar Islands</td>\n",
       "      <td>NICOBARS</td>\n",
       "      <td>2000</td>\n",
       "      <td>Whole Year</td>\n",
       "      <td>Cashewnut</td>\n",
       "      <td>720.0</td>\n",
       "      <td>165.0</td>\n",
       "    </tr>\n",
       "  </tbody>\n",
       "</table>\n",
       "</div>"
      ],
      "text/plain": [
       "                    State_Name District_Name  Crop_Year       Season  \\\n",
       "0  Andaman and Nicobar Islands      NICOBARS       2000  Kharif        \n",
       "1  Andaman and Nicobar Islands      NICOBARS       2000  Kharif        \n",
       "2  Andaman and Nicobar Islands      NICOBARS       2000  Kharif        \n",
       "3  Andaman and Nicobar Islands      NICOBARS       2000  Whole Year    \n",
       "4  Andaman and Nicobar Islands      NICOBARS       2000  Whole Year    \n",
       "\n",
       "                  Crop    Area  Production  \n",
       "0             Arecanut  1254.0      2000.0  \n",
       "1  Other Kharif pulses     2.0         1.0  \n",
       "2                 Rice   102.0       321.0  \n",
       "3               Banana   176.0       641.0  \n",
       "4            Cashewnut   720.0       165.0  "
      ]
     },
     "execution_count": 4,
     "metadata": {},
     "output_type": "execute_result"
    }
   ],
   "source": [
    "grown_crop = pd.read_csv(PATH_CROPS)\n",
    "grown_crop.head()"
   ]
  },
  {
   "cell_type": "code",
   "execution_count": 5,
   "metadata": {},
   "outputs": [
    {
     "data": {
      "text/plain": [
       "'Arecanut'"
      ]
     },
     "execution_count": 5,
     "metadata": {},
     "output_type": "execute_result"
    }
   ],
   "source": [
    "#Select relevant columns and remove rows with missing values\n",
    "grown_crop = grown_crop[['State_Name','District_Name','Crop_Year','Season','Crop','Area','Production']].dropna()\n",
    "#articles is a list of all articles\n",
    "crops = grown_crop['Crop'].tolist()\n",
    "crops[0] #an uncleaned article"
   ]
  },
  {
   "cell_type": "code",
   "execution_count": 6,
   "metadata": {},
   "outputs": [],
   "source": [
    "def clean_tokenize(document):\n",
    "    document = re.sub('[^\\w_\\s-]', ' ',document)       #remove punctuation marks and other symbols\n",
    "    tokens = nltk.word_tokenize(document)              #Tokenize sentences\n",
    "    cleaned_crops = ' '.join([stemmer.stem(item) for item in tokens])    #Stemming each token\n",
    "    return cleaned_crops"
   ]
  },
  {
   "cell_type": "code",
   "execution_count": 7,
   "metadata": {},
   "outputs": [
    {
     "data": {
      "text/plain": [
       "['arecanut',\n",
       " 'other kharif puls',\n",
       " 'rice',\n",
       " 'banana',\n",
       " 'cashewnut',\n",
       " 'coconut',\n",
       " 'dri ginger',\n",
       " 'sugarcan',\n",
       " 'sweet potato',\n",
       " 'tapioca',\n",
       " 'arecanut',\n",
       " 'other kharif puls',\n",
       " 'rice',\n",
       " 'cashewnut',\n",
       " 'coconut',\n",
       " 'dri ginger',\n",
       " 'sugarcan',\n",
       " 'sweet potato',\n",
       " 'rice',\n",
       " 'arecanut',\n",
       " 'banana',\n",
       " 'black pepper',\n",
       " 'cashewnut',\n",
       " 'coconut',\n",
       " 'dri chilli',\n",
       " 'dri ginger',\n",
       " 'sugarcan',\n",
       " 'rice',\n",
       " 'arecanut',\n",
       " 'banana',\n",
       " 'black pepper',\n",
       " 'cashewnut',\n",
       " 'coconut',\n",
       " 'dri chilli',\n",
       " 'dri ginger',\n",
       " 'other oilse',\n",
       " 'rice',\n",
       " 'arecanut',\n",
       " 'banana',\n",
       " 'black pepper',\n",
       " 'cashewnut',\n",
       " 'coconut',\n",
       " 'dri chilli',\n",
       " 'dri ginger',\n",
       " 'other oilse',\n",
       " 'rice',\n",
       " 'banana',\n",
       " 'black pepper',\n",
       " 'cashewnut',\n",
       " 'coconut']"
      ]
     },
     "execution_count": 7,
     "metadata": {},
     "output_type": "execute_result"
    }
   ],
   "source": [
    "cleaned_crops = list (map(clean_tokenize, crops[0:50]))\n",
    "cleaned_crops  #a cleaned, tokenized and stemmed crops "
   ]
  },
  {
   "cell_type": "markdown",
   "metadata": {},
   "source": [
    "# 2. Represent states in terms of grown crops associated area\n"
   ]
  },
  {
   "cell_type": "code",
   "execution_count": 10,
   "metadata": {},
   "outputs": [],
   "source": [
    "#Get user representation in terms of words associated with read articles\n",
    "states_crops = ' '.join(cleaned_crops[i] for i in GROWN_CROP)"
   ]
  },
  {
   "cell_type": "code",
   "execution_count": 11,
   "metadata": {
    "scrolled": true
   },
   "outputs": [
    {
     "data": {
      "text/plain": [
       "'rice sugarcan sweet potato sweet potato rice dri ginger'"
      ]
     },
     "execution_count": 11,
     "metadata": {},
     "output_type": "execute_result"
    }
   ],
   "source": [
    "states_crops"
   ]
  },
  {
   "cell_type": "markdown",
   "metadata": {},
   "source": [
    "# 3. Generate TF-IDF matrix for states highest grown and least grown crop\n"
   ]
  },
  {
   "cell_type": "code",
   "execution_count": 20,
   "metadata": {},
   "outputs": [
    {
     "data": {
      "text/plain": [
       "<50x16 sparse matrix of type '<class 'numpy.float64'>'\n",
       "\twith 65 stored elements in Compressed Sparse Row format>"
      ]
     },
     "execution_count": 20,
     "metadata": {},
     "output_type": "execute_result"
    }
   ],
   "source": [
    "#Generate tfidf matrix model for entire corpus\n",
    "tfidf_matrix = TfidfVectorizer(stop_words='english', min_df=2)\n",
    "crops_tfidf_matrix = tfidf_matrix.fit_transform(cleaned_crops)\n",
    "crops_tfidf_matrix #tfidf vector of an article"
   ]
  },
  {
   "cell_type": "code",
   "execution_count": 21,
   "metadata": {},
   "outputs": [
    {
     "data": {
      "text/plain": [
       "<1x16 sparse matrix of type '<class 'numpy.float64'>'\n",
       "\twith 6 stored elements in Compressed Sparse Row format>"
      ]
     },
     "execution_count": 21,
     "metadata": {},
     "output_type": "execute_result"
    }
   ],
   "source": [
    "#Generate tfidf matrix model for read articles\n",
    "states_crops_tfidf_vector = tfidf_matrix.transform([states_crops])\n",
    "states_crops_tfidf_vector"
   ]
  },
  {
   "cell_type": "code",
   "execution_count": 22,
   "metadata": {},
   "outputs": [
    {
     "data": {
      "text/plain": [
       "array([[ 0.        ,  0.        ,  0.        ,  0.        ,  0.        ,\n",
       "         0.        ,  0.20208139,  0.23204442,  0.        ,  0.        ,\n",
       "         0.        ,  0.56653314,  0.        ,  0.44130601,  0.26200746,\n",
       "         0.56653314]])"
      ]
     },
     "execution_count": 22,
     "metadata": {},
     "output_type": "execute_result"
    }
   ],
   "source": [
    "states_crops_tfidf_vector.toarray()"
   ]
  },
  {
   "cell_type": "markdown",
   "metadata": {},
   "source": [
    "# 4. Calculate cosine similarity between most grown and least ungrown crops in a state \n",
    "\n"
   ]
  },
  {
   "cell_type": "code",
   "execution_count": 23,
   "metadata": {},
   "outputs": [],
   "source": [
    "crops_similarity_score=cosine_similarity(crops_tfidf_matrix, states_crops_tfidf_vector)"
   ]
  },
  {
   "cell_type": "code",
   "execution_count": 24,
   "metadata": {},
   "outputs": [],
   "source": [
    "predicted_crops_id = crops_similarity_score.flatten().argsort()[::-1]"
   ]
  },
  {
   "cell_type": "code",
   "execution_count": 25,
   "metadata": {},
   "outputs": [
    {
     "data": {
      "text/plain": [
       "array([17,  8, 18, 12,  2, 45, 36, 27, 43, 15, 25,  6, 34, 16, 26,  7, 24,\n",
       "       33, 42, 10, 11, 13, 14, 19,  5,  4,  3,  1,  9, 49, 20, 21, 47, 46,\n",
       "       44, 41, 40, 39, 38, 37, 35, 32, 31, 30, 29, 28, 48, 23, 22,  0], dtype=int64)"
      ]
     },
     "execution_count": 25,
     "metadata": {},
     "output_type": "execute_result"
    }
   ],
   "source": [
    "predicted_crops_id"
   ]
  },
  {
   "cell_type": "code",
   "execution_count": 29,
   "metadata": {},
   "outputs": [],
   "source": [
    "#Remove read articles from recommendations\n",
    "final_predicted_crops_id = [article_id for article_id in predicted_crops_id \n",
    "                                 if article_id not in GROWN_CROP ][:NUM_PREDICTED_CROP]"
   ]
  },
  {
   "cell_type": "markdown",
   "metadata": {},
   "source": [
    "# 5. Get the recommended crops "
   ]
  },
  {
   "cell_type": "code",
   "execution_count": 31,
   "metadata": {},
   "outputs": [
    {
     "data": {
      "text/plain": [
       "[12,\n",
       " 45,\n",
       " 36,\n",
       " 27,\n",
       " 43,\n",
       " 15,\n",
       " 25,\n",
       " 6,\n",
       " 16,\n",
       " 26,\n",
       " 24,\n",
       " 33,\n",
       " 42,\n",
       " 10,\n",
       " 11,\n",
       " 13,\n",
       " 14,\n",
       " 19,\n",
       " 5,\n",
       " 4,\n",
       " 3,\n",
       " 1,\n",
       " 9,\n",
       " 49,\n",
       " 20,\n",
       " 21,\n",
       " 47,\n",
       " 46,\n",
       " 44,\n",
       " 41,\n",
       " 40,\n",
       " 39,\n",
       " 38,\n",
       " 37,\n",
       " 35,\n",
       " 32,\n",
       " 31,\n",
       " 30,\n",
       " 29,\n",
       " 28,\n",
       " 48,\n",
       " 23,\n",
       " 22,\n",
       " 0]"
      ]
     },
     "execution_count": 31,
     "metadata": {},
     "output_type": "execute_result"
    }
   ],
   "source": [
    "final_predicted_crops_id"
   ]
  },
  {
   "cell_type": "code",
   "execution_count": 34,
   "metadata": {},
   "outputs": [
    {
     "name": "stdout",
     "output_type": "stream",
     "text": [
      "Area Consumed by a crop\n",
      "7                     Sugarcane\n",
      "269                     Sesamum\n",
      "270                        Urad\n",
      "283                     Sesamum\n",
      "309                        Urad\n",
      "318                     Linseed\n",
      "331                      Potato\n",
      "341                        Gram\n",
      "399                        Urad\n",
      "406                     Linseed\n",
      "413               Small millets\n",
      "433                      Potato\n",
      "455                    Soyabean\n",
      "464                     Linseed\n",
      "466           Moong(Green Gram)\n",
      "524               Small millets\n",
      "565                        Urad\n",
      "614                    Turmeric\n",
      "682         Other Kharif pulses\n",
      "770                        Urad\n",
      "785               Small millets\n",
      "848               Small millets\n",
      "876         Other Kharif pulses\n",
      "931                   Cashewnut\n",
      "947         Other Kharif pulses\n",
      "978          Other  Rabi pulses\n",
      "1040               Cotton(lint)\n",
      "1057                    Linseed\n",
      "1067                    Tobacco\n",
      "1090                       Urad\n",
      "                  ...          \n",
      "245273                Sunflower\n",
      "245294                  Tobacco\n",
      "245339                   Barley\n",
      "245391                  Tobacco\n",
      "245488                    Jowar\n",
      "245531                 Soyabean\n",
      "245539        Moong(Green Gram)\n",
      "245540    Peas & beans (Pulses)\n",
      "245555                    Bajra\n",
      "245604        Moong(Green Gram)\n",
      "245680    Peas & beans (Pulses)\n",
      "245686                 Arecanut\n",
      "245730                    Bajra\n",
      "245731             Cotton(lint)\n",
      "245739                     Ragi\n",
      "245754        Moong(Green Gram)\n",
      "245767             Cotton(lint)\n",
      "245863                Groundnut\n",
      "245867                   Masoor\n",
      "245878                 Arecanut\n",
      "245883                  Tobacco\n",
      "245906                  Khesari\n",
      "245908                   Masoor\n",
      "245943                   Masoor\n",
      "245990                     Ragi\n",
      "246026                    Jowar\n",
      "246039                   Masoor\n",
      "246042    Peas & beans (Pulses)\n",
      "246055                    Jowar\n",
      "246068                 Soyabean\n",
      "Name: Crop, Length: 7403, dtype: object\n",
      "\n",
      "\n",
      "Predictions\n",
      "1           Other Kharif pulses\n",
      "8                  Sweet potato\n",
      "11          Other Kharif pulses\n",
      "16                    Sugarcane\n",
      "17                 Sweet potato\n",
      "26                    Sugarcane\n",
      "58                 Dry chillies\n",
      "59                   Dry ginger\n",
      "64                         Rice\n",
      "69                 Dry chillies\n",
      "93                    Cashewnut\n",
      "97                 Sweet potato\n",
      "102                   Cashewnut\n",
      "116                   Cashewnut\n",
      "133                   Cashewnut\n",
      "176                   Cashewnut\n",
      "276                     Linseed\n",
      "278                      Masoor\n",
      "279           Moong(Green Gram)\n",
      "293                        Gram\n",
      "305                       Samai\n",
      "306                     Sesamum\n",
      "310                   Arhar/Tur\n",
      "355                   Arhar/Tur\n",
      "356                       Bajra\n",
      "362                     Linseed\n",
      "364           Moong(Green Gram)\n",
      "366          Other  Rabi pulses\n",
      "370                     Sesamum\n",
      "380                    Turmeric\n",
      "                  ...          \n",
      "245993            Small millets\n",
      "245994                    Bajra\n",
      "245999                Sunflower\n",
      "246003                Groundnut\n",
      "246006                   Masoor\n",
      "246007        Moong(Green Gram)\n",
      "246010                Safflower\n",
      "246015                  Sesamum\n",
      "246023            Small millets\n",
      "246024                    Bajra\n",
      "246029      Other Kharif pulses\n",
      "246031                 Soyabean\n",
      "246032                Sunflower\n",
      "246036                Groundnut\n",
      "246038                  Linseed\n",
      "246040        Moong(Green Gram)\n",
      "246041                     Moth\n",
      "246044                     Ragi\n",
      "246046                Safflower\n",
      "246057                     Ragi\n",
      "246060            Small millets\n",
      "246061                    Bajra\n",
      "246064                     Moth\n",
      "246066      Other Kharif pulses\n",
      "246069                Sunflower\n",
      "246073                Groundnut\n",
      "246077                   Masoor\n",
      "246078        Moong(Green Gram)\n",
      "246079    Peas & beans (Pulses)\n",
      "246082                Safflower\n",
      "Name: Crop, Length: 38608, dtype: object\n"
     ]
    }
   ],
   "source": [
    "#Recommended Articles and their title\n",
    "print ('Area Consumed by a crop')\n",
    "print (grown_crop.loc[grown_crop['Production'].isin(GROWN_CROP)]['Crop'])\n",
    "print ('\\n')\n",
    "print ('Predictions')\n",
    "print (grown_crop.loc[grown_crop['Production'].isin(final_predicted_crops_id)]['Crop'])"
   ]
  },
  {
   "cell_type": "code",
   "execution_count": null,
   "metadata": {},
   "outputs": [],
   "source": []
  },
  {
   "cell_type": "code",
   "execution_count": null,
   "metadata": {},
   "outputs": [],
   "source": []
  }
 ],
 "metadata": {
  "anaconda-cloud": {},
  "kernelspec": {
   "display_name": "Python 3",
   "language": "python",
   "name": "python3"
  },
  "language_info": {
   "codemirror_mode": {
    "name": "ipython",
    "version": 3
   },
   "file_extension": ".py",
   "mimetype": "text/x-python",
   "name": "python",
   "nbconvert_exporter": "python",
   "pygments_lexer": "ipython3",
   "version": "3.4.4"
  }
 },
 "nbformat": 4,
 "nbformat_minor": 1
}
